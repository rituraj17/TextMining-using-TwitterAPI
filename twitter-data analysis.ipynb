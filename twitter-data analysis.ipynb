{
 "cells": [
  {
   "cell_type": "code",
   "execution_count": 1,
   "metadata": {},
   "outputs": [],
   "source": [
    "import json\n",
    "import pandas as pd \n",
    "import matplotlib.pyplot as plt"
   ]
  },
  {
   "cell_type": "code",
   "execution_count": 2,
   "metadata": {},
   "outputs": [],
   "source": [
    "# access data stored from twitter api which is stored in csv\n",
    "tweet_data=[]\n",
    "tweet_path='./twitter-data.csv'\n",
    "\n",
    "\n",
    "# As data is stored in json we have to take each line and store it as a list \n",
    "tweet_file=open(tweet_path,\"r\")\n",
    "for line in tweet_file:\n",
    "    try:\n",
    "        tweet=json.loads(line)\n",
    "        tweet_data.append(tweet)\n",
    "    except:\n",
    "        continue"
   ]
  },
  {
   "cell_type": "code",
   "execution_count": 3,
   "metadata": {},
   "outputs": [
    {
     "name": "stdout",
     "output_type": "stream",
     "text": [
      "28982\n"
     ]
    }
   ],
   "source": [
    "print (len(tweet_data))"
   ]
  },
  {
   "cell_type": "code",
   "execution_count": 4,
   "metadata": {},
   "outputs": [],
   "source": [
    "#tweet_data[0]"
   ]
  },
  {
   "cell_type": "code",
   "execution_count": 5,
   "metadata": {},
   "outputs": [],
   "source": [
    "# store data of a list in a dataframe\n",
    "tweets=pd.DataFrame()"
   ]
  },
  {
   "cell_type": "code",
   "execution_count": 6,
   "metadata": {},
   "outputs": [],
   "source": [
    "# extract  text ,lang,location data and store it in dataframe\n",
    "tweets['text']=list(map(lambda tweet: tweet['text'],tweet_data))\n",
    "tweets['lang']=list(map(lambda tweet: tweet['lang'],tweet_data))\n",
    "tweets['location']=list(map(lambda tweet: tweet['user']['location'] if tweet['user']['location']!=None else None,tweet_data))"
   ]
  },
  {
   "cell_type": "code",
   "execution_count": 7,
   "metadata": {},
   "outputs": [
    {
     "data": {
      "text/html": [
       "<div>\n",
       "<style scoped>\n",
       "    .dataframe tbody tr th:only-of-type {\n",
       "        vertical-align: middle;\n",
       "    }\n",
       "\n",
       "    .dataframe tbody tr th {\n",
       "        vertical-align: top;\n",
       "    }\n",
       "\n",
       "    .dataframe thead th {\n",
       "        text-align: right;\n",
       "    }\n",
       "</style>\n",
       "<table border=\"1\" class=\"dataframe\">\n",
       "  <thead>\n",
       "    <tr style=\"text-align: right;\">\n",
       "      <th></th>\n",
       "      <th>text</th>\n",
       "      <th>lang</th>\n",
       "      <th>location</th>\n",
       "    </tr>\n",
       "  </thead>\n",
       "  <tbody>\n",
       "    <tr>\n",
       "      <th>0</th>\n",
       "      <td>RT @NEC_COEAPS: Connecting over Lunch at #Hort...</td>\n",
       "      <td>en</td>\n",
       "      <td>None</td>\n",
       "    </tr>\n",
       "    <tr>\n",
       "      <th>1</th>\n",
       "      <td>Associate Professor in Business Data Analytics...</td>\n",
       "      <td>en</td>\n",
       "      <td>None</td>\n",
       "    </tr>\n",
       "    <tr>\n",
       "      <th>2</th>\n",
       "      <td>RT @resovilles: 📢Ça y est la publication #deve...</td>\n",
       "      <td>fr</td>\n",
       "      <td>Nantes, France</td>\n",
       "    </tr>\n",
       "    <tr>\n",
       "      <th>3</th>\n",
       "      <td>Attended Capital Analytics Invest: Philadelphi...</td>\n",
       "      <td>en</td>\n",
       "      <td>Philadelphia</td>\n",
       "    </tr>\n",
       "    <tr>\n",
       "      <th>4</th>\n",
       "      <td>RT @NEC_COEAPS: All set to start the #Hortonwo...</td>\n",
       "      <td>en</td>\n",
       "      <td>None</td>\n",
       "    </tr>\n",
       "  </tbody>\n",
       "</table>\n",
       "</div>"
      ],
      "text/plain": [
       "                                                text lang        location\n",
       "0  RT @NEC_COEAPS: Connecting over Lunch at #Hort...   en            None\n",
       "1  Associate Professor in Business Data Analytics...   en            None\n",
       "2  RT @resovilles: 📢Ça y est la publication #deve...   fr  Nantes, France\n",
       "3  Attended Capital Analytics Invest: Philadelphi...   en    Philadelphia\n",
       "4  RT @NEC_COEAPS: All set to start the #Hortonwo...   en            None"
      ]
     },
     "execution_count": 7,
     "metadata": {},
     "output_type": "execute_result"
    }
   ],
   "source": [
    "tweets.head()"
   ]
  },
  {
   "cell_type": "code",
   "execution_count": 8,
   "metadata": {},
   "outputs": [],
   "source": [
    "# store count of different languages\n",
    "tweets_by_lang=tweets['lang'].value_counts()"
   ]
  },
  {
   "cell_type": "code",
   "execution_count": 9,
   "metadata": {},
   "outputs": [
    {
     "data": {
      "text/plain": [
       "<matplotlib.axes._subplots.AxesSubplot at 0x254092544a8>"
      ]
     },
     "execution_count": 9,
     "metadata": {},
     "output_type": "execute_result"
    },
    {
     "data": {
      "image/png": "[encoded data removed]",
      "text/plain": [
       "<Figure size 432x288 with 1 Axes>"
      ]
     },
     "metadata": {},
     "output_type": "display_data"
    }
   ],
   "source": [
    "fig, ax=plt.subplots()\n",
    "ax.tick_params(axis='x', labelsize=15)\n",
    "ax.tick_params(axis='y', labelsize=10)\n",
    "ax.set_xlabel('Language', fontsize=15)\n",
    "ax.set_ylabel('Number of tweets',fontsize=15)\n",
    "ax.set_title('Top 5 Language',fontsize=15,fontweight='bold')\n",
    "tweets_by_lang[:5].plot(ax=ax,kind='bar',color='red')"
   ]
  },
  {
   "cell_type": "code",
   "execution_count": 10,
   "metadata": {},
   "outputs": [],
   "source": [
    "# store count of each location\n",
    "tweet_loca=tweets['location'].value_counts()"
   ]
  },
  {
   "cell_type": "code",
   "execution_count": 11,
   "metadata": {},
   "outputs": [
    {
     "data": {
      "text/plain": [
       "<matplotlib.axes._subplots.AxesSubplot at 0x254094f1630>"
      ]
     },
     "execution_count": 11,
     "metadata": {},
     "output_type": "execute_result"
    },
    {
     "data": {
      "image/png": "[encoded data removed]",
      "text/plain": [
       "<Figure size 432x288 with 1 Axes>"
      ]
     },
     "metadata": {},
     "output_type": "display_data"
    }
   ],
   "source": [
    "fig, ax1=plt.subplots()\n",
    "ax1.tick_params(axis='x',labelsize=15)\n",
    "ax1.tick_params(axis='y',labelsize=10)\n",
    "ax1.set_xlabel('Country',fontsize=15)\n",
    "ax1.set_ylabel('No of tweets',fontsize=15)\n",
    "ax1.set_title('Top 5 countries',fontsize=15,fontweight='bold')\n",
    "tweet_loca[:10].plot(ax=ax1,kind='bar',color='blue')\n"
   ]
  },
  {
   "cell_type": "code",
   "execution_count": 12,
   "metadata": {},
   "outputs": [],
   "source": [
    "# finding the count of top treanding topics in Technology\n",
    "import re"
   ]
  },
  {
   "cell_type": "code",
   "execution_count": 13,
   "metadata": {},
   "outputs": [],
   "source": [
    "def word_found(word,text):\n",
    "    word=word.lower()\n",
    "    text=text.lower()\n",
    "    match=re.search(word,text)\n",
    "    if match:\n",
    "        return True\n",
    "    else:\n",
    "        return False"
   ]
  },
  {
   "cell_type": "code",
   "execution_count": 14,
   "metadata": {},
   "outputs": [],
   "source": [
    "tweets['bigdata']=tweets['text'].apply(lambda tweet:word_found('bigdata',tweet))\n",
    "tweets['machineleaning']=tweets['text'].apply(lambda tweet:word_found('machinelearning',tweet))\n",
    "tweets['devops']=tweets['text'].apply(lambda tweet:word_found('devops',tweet))\n",
    "tweets['analytics']=tweets['text'].apply(lambda tweet:word_found('analytics',tweet))\n",
    "tweets['softwaredeveloper']=tweets['text'].apply(lambda tweet:word_found('softwaredevloper',tweet))"
   ]
  },
  {
   "cell_type": "code",
   "execution_count": 15,
   "metadata": {},
   "outputs": [],
   "source": [
    "tweet_bigdata=tweets['bigdata'].value_counts()[True]\n",
    "tweet_machinelearning=tweets['machineleaning'].value_counts()[True]\n",
    "tweet_devops=tweets['devops'].value_counts()[True]\n",
    "tweet_analytics=tweets['analytics'].value_counts()[True]\n",
    "tweet_software=tweets['softwaredeveloper'].value_counts()"
   ]
  },
  {
   "cell_type": "code",
   "execution_count": 16,
   "metadata": {},
   "outputs": [
    {
     "data": {
      "text/plain": [
       "28982"
      ]
     },
     "execution_count": 16,
     "metadata": {},
     "output_type": "execute_result"
    }
   ],
   "source": [
    "len(tweets)"
   ]
  },
  {
   "cell_type": "code",
   "execution_count": 17,
   "metadata": {},
   "outputs": [
    {
     "data": {
      "text/plain": [
       "False    28982\n",
       "Name: softwaredeveloper, dtype: int64"
      ]
     },
     "execution_count": 17,
     "metadata": {},
     "output_type": "execute_result"
    }
   ],
   "source": [
    "tweet_software"
   ]
  },
  {
   "cell_type": "code",
   "execution_count": 18,
   "metadata": {},
   "outputs": [],
   "source": [
    "top_market=['Bigdata','machinelearning','devops','analytics']"
   ]
  },
  {
   "cell_type": "code",
   "execution_count": 19,
   "metadata": {},
   "outputs": [
    {
     "data": {
      "image/png": "[encoded data removed]",
      "text/plain": [
       "<Figure size 432x288 with 1 Axes>"
      ]
     },
     "metadata": {},
     "output_type": "display_data"
    }
   ],
   "source": [
    "tweet_market=[tweet_bigdata,tweet_machinelearning,tweet_devops,tweet_analytics]\n",
    "x_pos=list(range(len(top_market)))\n",
    "width=0.6\n",
    "fig, ax=plt.subplots()\n",
    "plt.bar(x_pos,tweet_market,width,alpha=1,color='g')\n",
    "ax.set_ylabel(\"no of tweets\",fontsize=15)\n",
    "ax.set_title(\"Ranking\",fontsize=15,fontweight='bold')\n",
    "\n",
    "ax.set_xticks([p + 0.01 * width for p in x_pos])\n",
    "ax.set_xticklabels(top_market)\n",
    "#@ax.set_xlabel(top_market)\n",
    "plt.show()"
   ]
  },
  {
   "cell_type": "code",
   "execution_count": null,
   "metadata": {},
   "outputs": [],
   "source": []
  }
 ],
 "metadata": {
  "kernelspec": {
   "display_name": "Python 3",
   "language": "python",
   "name": "python3"
  },
  "language_info": {
   "codemirror_mode": {
    "name": "ipython",
    "version": 3
   },
   "file_extension": ".py",
   "mimetype": "text/x-python",
   "name": "python",
   "nbconvert_exporter": "python",
   "pygments_lexer": "ipython3",
   "version": "3.6.5"
  }
 },
 "nbformat": 4,
 "nbformat_minor": 2
}
